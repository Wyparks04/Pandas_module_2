{
 "cells": [
  {
   "cell_type": "code",
   "execution_count": null,
   "id": "ca1e0a74",
   "metadata": {},
   "outputs": [
    {
     "name": "stdout",
     "output_type": "stream",
     "text": [
      "Flour     4 cups\n",
      "Milk       1 cup\n",
      "Eggs     2 large\n",
      "Spam       1 can\n",
      "Name: Dinner, dtype: object\n"
     ]
    }
   ],
   "source": [
    "import pandas as pd\n",
    "\n",
    "ingredients = pd.Series({\n",
    "    'Flour': '4 cups',\n",
    "    'Milk': '1 cup',\n",
    "    'Eggs': '2 large',\n",
    "    'Spam': '1 can'\n",
    "}, name='Dinner')\n",
    "\n",
    "print(ingredients)"
   ]
  },
  {
   "cell_type": "code",
   "execution_count": null,
   "id": "3a875e13",
   "metadata": {},
   "outputs": [
    {
     "name": "stdout",
     "output_type": "stream",
     "text": [
      "           Student  Math  Science  English\n",
      "Student 1    Alice  85.0     90.0      NaN\n",
      "Student 2      Bob   NaN     88.0     80.0\n",
      "Student 3  Charlie  78.0      NaN     87.0\n",
      "Student 4    David  92.0     95.0     85.0\n",
      "           Student  Math  Science  English\n",
      "Student 1    Alice  85.0     90.0      2.0\n",
      "Student 2      Bob   2.0     88.0     80.0\n",
      "Student 3  Charlie  78.0      2.0     87.0\n",
      "Student 4    David  92.0     95.0     85.0\n",
      "          Student  Math  Science  English\n",
      "Student 4   David  92.0     95.0     85.0\n"
     ]
    }
   ],
   "source": [
    "import pandas as pd\n",
    "\n",
    "data = {\n",
    "    \"Student\": [\"Alice\", \"Bob\", \"Charlie\", \"David\"],\n",
    "    \"Math\": [85, None, 78, 92],\n",
    "    \"Science\": [90, 88, None, 95],\n",
    "    \"English\": [None, 80, 87, 85]\n",
    "}\n",
    "\n",
    "df = pd.DataFrame(data)\n",
    "df.index = ['Student 1', 'Student 2', 'Student 3', 'Student 4']\n",
    "print(df)\n",
    "\n",
    "print(df.fillna(2))\n",
    "print(df.dropna())\n",
    "\n"
   ]
  }
 ],
 "metadata": {
  "kernelspec": {
   "display_name": "Python 3",
   "language": "python",
   "name": "python3"
  },
  "language_info": {
   "codemirror_mode": {
    "name": "ipython",
    "version": 3
   },
   "file_extension": ".py",
   "mimetype": "text/x-python",
   "name": "python",
   "nbconvert_exporter": "python",
   "pygments_lexer": "ipython3",
   "version": "3.13.0"
  }
 },
 "nbformat": 4,
 "nbformat_minor": 5
}
